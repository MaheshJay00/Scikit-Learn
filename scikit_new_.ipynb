{
  "nbformat": 4,
  "nbformat_minor": 0,
  "metadata": {
    "colab": {
      "name": "scikit_new_.ipynb",
      "provenance": [],
      "collapsed_sections": [],
      "include_colab_link": true
    },
    "kernelspec": {
      "display_name": "Python 3",
      "name": "python3"
    },
    "language_info": {
      "name": "python"
    }
  },
  "cells": [
    {
      "cell_type": "markdown",
      "metadata": {
        "id": "view-in-github",
        "colab_type": "text"
      },
      "source": [
        "<a href=\"https://colab.research.google.com/github/MaheshJay00/Scikit-Learn/blob/main/scikit_new_.ipynb\" target=\"_parent\"><img src=\"https://colab.research.google.com/assets/colab-badge.svg\" alt=\"Open In Colab\"/></a>"
      ]
    },
    {
      "cell_type": "code",
      "metadata": {
        "id": "kKIj5NGJtPuW"
      },
      "source": [
        "import numpy as np\n",
        "import pandas as pd\n",
        "from matplotlib import pyplot as plt\n"
      ],
      "execution_count": null,
      "outputs": []
    },
    {
      "cell_type": "code",
      "metadata": {
        "id": "IyeE_o3mvfDR"
      },
      "source": [
        "test=pd.read_csv(\"test.csv\",header=None)\n",
        "train=pd.read_csv(\"train.csv\",header=None)\n",
        "train_labels=pd.read_csv(\"trainLabels.csv\",header=None)"
      ],
      "execution_count": null,
      "outputs": []
    },
    {
      "cell_type": "code",
      "metadata": {
        "colab": {
          "base_uri": "https://localhost:8080/",
          "height": 206
        },
        "id": "jcwHFvolvzAH",
        "outputId": "178cb750-63ef-460a-bf6e-d7ab1014989a"
      },
      "source": [
        "test.head()\n",
        "train.head()\n",
        "train_labels.head()\n"
      ],
      "execution_count": null,
      "outputs": [
        {
          "output_type": "execute_result",
          "data": {
            "text/html": [
              "<div>\n",
              "<style scoped>\n",
              "    .dataframe tbody tr th:only-of-type {\n",
              "        vertical-align: middle;\n",
              "    }\n",
              "\n",
              "    .dataframe tbody tr th {\n",
              "        vertical-align: top;\n",
              "    }\n",
              "\n",
              "    .dataframe thead th {\n",
              "        text-align: right;\n",
              "    }\n",
              "</style>\n",
              "<table border=\"1\" class=\"dataframe\">\n",
              "  <thead>\n",
              "    <tr style=\"text-align: right;\">\n",
              "      <th></th>\n",
              "      <th>0</th>\n",
              "    </tr>\n",
              "  </thead>\n",
              "  <tbody>\n",
              "    <tr>\n",
              "      <th>0</th>\n",
              "      <td>1</td>\n",
              "    </tr>\n",
              "    <tr>\n",
              "      <th>1</th>\n",
              "      <td>0</td>\n",
              "    </tr>\n",
              "    <tr>\n",
              "      <th>2</th>\n",
              "      <td>0</td>\n",
              "    </tr>\n",
              "    <tr>\n",
              "      <th>3</th>\n",
              "      <td>1</td>\n",
              "    </tr>\n",
              "    <tr>\n",
              "      <th>4</th>\n",
              "      <td>0</td>\n",
              "    </tr>\n",
              "  </tbody>\n",
              "</table>\n",
              "</div>"
            ],
            "text/plain": [
              "   0\n",
              "0  1\n",
              "1  0\n",
              "2  0\n",
              "3  1\n",
              "4  0"
            ]
          },
          "metadata": {},
          "execution_count": 124
        }
      ]
    },
    {
      "cell_type": "code",
      "metadata": {
        "colab": {
          "base_uri": "https://localhost:8080/",
          "height": 164
        },
        "id": "lGSiYMTcM1Sy",
        "outputId": "5473aa96-37fe-4458-c686-8a117c8dc277"
      },
      "source": [
        "train.head(3)"
      ],
      "execution_count": null,
      "outputs": [
        {
          "output_type": "execute_result",
          "data": {
            "text/html": [
              "<div>\n",
              "<style scoped>\n",
              "    .dataframe tbody tr th:only-of-type {\n",
              "        vertical-align: middle;\n",
              "    }\n",
              "\n",
              "    .dataframe tbody tr th {\n",
              "        vertical-align: top;\n",
              "    }\n",
              "\n",
              "    .dataframe thead th {\n",
              "        text-align: right;\n",
              "    }\n",
              "</style>\n",
              "<table border=\"1\" class=\"dataframe\">\n",
              "  <thead>\n",
              "    <tr style=\"text-align: right;\">\n",
              "      <th></th>\n",
              "      <th>0</th>\n",
              "      <th>1</th>\n",
              "      <th>2</th>\n",
              "      <th>3</th>\n",
              "      <th>4</th>\n",
              "      <th>5</th>\n",
              "      <th>6</th>\n",
              "      <th>7</th>\n",
              "      <th>8</th>\n",
              "      <th>9</th>\n",
              "      <th>10</th>\n",
              "      <th>11</th>\n",
              "      <th>12</th>\n",
              "      <th>13</th>\n",
              "      <th>14</th>\n",
              "      <th>15</th>\n",
              "      <th>16</th>\n",
              "      <th>17</th>\n",
              "      <th>18</th>\n",
              "      <th>19</th>\n",
              "      <th>20</th>\n",
              "      <th>21</th>\n",
              "      <th>22</th>\n",
              "      <th>23</th>\n",
              "      <th>24</th>\n",
              "      <th>25</th>\n",
              "      <th>26</th>\n",
              "      <th>27</th>\n",
              "      <th>28</th>\n",
              "      <th>29</th>\n",
              "      <th>30</th>\n",
              "      <th>31</th>\n",
              "      <th>32</th>\n",
              "      <th>33</th>\n",
              "      <th>34</th>\n",
              "      <th>35</th>\n",
              "      <th>36</th>\n",
              "      <th>37</th>\n",
              "      <th>38</th>\n",
              "      <th>39</th>\n",
              "    </tr>\n",
              "  </thead>\n",
              "  <tbody>\n",
              "    <tr>\n",
              "      <th>0</th>\n",
              "      <td>0.299403</td>\n",
              "      <td>-1.226624</td>\n",
              "      <td>1.498425</td>\n",
              "      <td>-1.176150</td>\n",
              "      <td>5.289853</td>\n",
              "      <td>0.208297</td>\n",
              "      <td>2.404498</td>\n",
              "      <td>1.594506</td>\n",
              "      <td>-0.051608</td>\n",
              "      <td>0.663234</td>\n",
              "      <td>-1.408370</td>\n",
              "      <td>1.114744</td>\n",
              "      <td>0.910415</td>\n",
              "      <td>2.218110</td>\n",
              "      <td>4.305643</td>\n",
              "      <td>0.088924</td>\n",
              "      <td>0.169149</td>\n",
              "      <td>0.413448</td>\n",
              "      <td>1.513862</td>\n",
              "      <td>2.662967</td>\n",
              "      <td>-1.072765</td>\n",
              "      <td>0.149111</td>\n",
              "      <td>0.559579</td>\n",
              "      <td>4.378885</td>\n",
              "      <td>-0.463603</td>\n",
              "      <td>-0.063959</td>\n",
              "      <td>0.544930</td>\n",
              "      <td>0.712772</td>\n",
              "      <td>-1.494050</td>\n",
              "      <td>-2.636169</td>\n",
              "      <td>-0.850465</td>\n",
              "      <td>-0.622990</td>\n",
              "      <td>-1.833057</td>\n",
              "      <td>0.293024</td>\n",
              "      <td>3.552681</td>\n",
              "      <td>0.717611</td>\n",
              "      <td>3.305972</td>\n",
              "      <td>-2.715559</td>\n",
              "      <td>-2.682409</td>\n",
              "      <td>0.101050</td>\n",
              "    </tr>\n",
              "    <tr>\n",
              "      <th>1</th>\n",
              "      <td>-1.174176</td>\n",
              "      <td>0.332157</td>\n",
              "      <td>0.949919</td>\n",
              "      <td>-1.285328</td>\n",
              "      <td>2.199061</td>\n",
              "      <td>-0.151268</td>\n",
              "      <td>-0.427039</td>\n",
              "      <td>2.619246</td>\n",
              "      <td>-0.765884</td>\n",
              "      <td>-0.093780</td>\n",
              "      <td>0.935347</td>\n",
              "      <td>1.057796</td>\n",
              "      <td>-0.539275</td>\n",
              "      <td>-0.172662</td>\n",
              "      <td>-0.679051</td>\n",
              "      <td>0.607362</td>\n",
              "      <td>1.148635</td>\n",
              "      <td>2.437077</td>\n",
              "      <td>-0.313069</td>\n",
              "      <td>0.528104</td>\n",
              "      <td>-0.513476</td>\n",
              "      <td>0.766221</td>\n",
              "      <td>-1.466939</td>\n",
              "      <td>-2.318885</td>\n",
              "      <td>1.647223</td>\n",
              "      <td>-1.556443</td>\n",
              "      <td>-1.645581</td>\n",
              "      <td>-0.198467</td>\n",
              "      <td>-1.472066</td>\n",
              "      <td>-1.906147</td>\n",
              "      <td>-0.819750</td>\n",
              "      <td>0.012037</td>\n",
              "      <td>2.038836</td>\n",
              "      <td>0.468579</td>\n",
              "      <td>-0.517657</td>\n",
              "      <td>0.422326</td>\n",
              "      <td>0.803699</td>\n",
              "      <td>1.213219</td>\n",
              "      <td>1.382932</td>\n",
              "      <td>-1.817761</td>\n",
              "    </tr>\n",
              "    <tr>\n",
              "      <th>2</th>\n",
              "      <td>1.192222</td>\n",
              "      <td>-0.414371</td>\n",
              "      <td>0.067054</td>\n",
              "      <td>-2.233568</td>\n",
              "      <td>3.658881</td>\n",
              "      <td>0.089007</td>\n",
              "      <td>0.203439</td>\n",
              "      <td>-4.219054</td>\n",
              "      <td>-1.184919</td>\n",
              "      <td>-1.240310</td>\n",
              "      <td>-0.890270</td>\n",
              "      <td>0.909969</td>\n",
              "      <td>-11.851312</td>\n",
              "      <td>3.352420</td>\n",
              "      <td>-4.862125</td>\n",
              "      <td>-0.903317</td>\n",
              "      <td>-1.824344</td>\n",
              "      <td>0.045446</td>\n",
              "      <td>-2.126474</td>\n",
              "      <td>1.161563</td>\n",
              "      <td>-1.027912</td>\n",
              "      <td>-1.078792</td>\n",
              "      <td>1.848525</td>\n",
              "      <td>3.758918</td>\n",
              "      <td>0.623649</td>\n",
              "      <td>-0.091044</td>\n",
              "      <td>-1.033094</td>\n",
              "      <td>-0.254151</td>\n",
              "      <td>-4.377542</td>\n",
              "      <td>-1.196298</td>\n",
              "      <td>-0.604501</td>\n",
              "      <td>0.750054</td>\n",
              "      <td>-3.360521</td>\n",
              "      <td>0.856988</td>\n",
              "      <td>-2.751451</td>\n",
              "      <td>-1.582735</td>\n",
              "      <td>1.672246</td>\n",
              "      <td>0.656438</td>\n",
              "      <td>-0.932473</td>\n",
              "      <td>2.987436</td>\n",
              "    </tr>\n",
              "  </tbody>\n",
              "</table>\n",
              "</div>"
            ],
            "text/plain": [
              "         0         1         2   ...        37        38        39\n",
              "0  0.299403 -1.226624  1.498425  ... -2.715559 -2.682409  0.101050\n",
              "1 -1.174176  0.332157  0.949919  ...  1.213219  1.382932 -1.817761\n",
              "2  1.192222 -0.414371  0.067054  ...  0.656438 -0.932473  2.987436\n",
              "\n",
              "[3 rows x 40 columns]"
            ]
          },
          "metadata": {},
          "execution_count": 125
        }
      ]
    },
    {
      "cell_type": "code",
      "metadata": {
        "colab": {
          "base_uri": "https://localhost:8080/",
          "height": 320
        },
        "id": "yMmaY3gTM8En",
        "outputId": "40f4550e-8ad1-4728-b7b4-aee816cd2818"
      },
      "source": [
        "train.describe()"
      ],
      "execution_count": null,
      "outputs": [
        {
          "output_type": "execute_result",
          "data": {
            "text/html": [
              "<div>\n",
              "<style scoped>\n",
              "    .dataframe tbody tr th:only-of-type {\n",
              "        vertical-align: middle;\n",
              "    }\n",
              "\n",
              "    .dataframe tbody tr th {\n",
              "        vertical-align: top;\n",
              "    }\n",
              "\n",
              "    .dataframe thead th {\n",
              "        text-align: right;\n",
              "    }\n",
              "</style>\n",
              "<table border=\"1\" class=\"dataframe\">\n",
              "  <thead>\n",
              "    <tr style=\"text-align: right;\">\n",
              "      <th></th>\n",
              "      <th>0</th>\n",
              "      <th>1</th>\n",
              "      <th>2</th>\n",
              "      <th>3</th>\n",
              "      <th>4</th>\n",
              "      <th>5</th>\n",
              "      <th>6</th>\n",
              "      <th>7</th>\n",
              "      <th>8</th>\n",
              "      <th>9</th>\n",
              "      <th>10</th>\n",
              "      <th>11</th>\n",
              "      <th>12</th>\n",
              "      <th>13</th>\n",
              "      <th>14</th>\n",
              "      <th>15</th>\n",
              "      <th>16</th>\n",
              "      <th>17</th>\n",
              "      <th>18</th>\n",
              "      <th>19</th>\n",
              "      <th>20</th>\n",
              "      <th>21</th>\n",
              "      <th>22</th>\n",
              "      <th>23</th>\n",
              "      <th>24</th>\n",
              "      <th>25</th>\n",
              "      <th>26</th>\n",
              "      <th>27</th>\n",
              "      <th>28</th>\n",
              "      <th>29</th>\n",
              "      <th>30</th>\n",
              "      <th>31</th>\n",
              "      <th>32</th>\n",
              "      <th>33</th>\n",
              "      <th>34</th>\n",
              "      <th>35</th>\n",
              "      <th>36</th>\n",
              "      <th>37</th>\n",
              "      <th>38</th>\n",
              "      <th>39</th>\n",
              "    </tr>\n",
              "  </thead>\n",
              "  <tbody>\n",
              "    <tr>\n",
              "      <th>count</th>\n",
              "      <td>1000.000000</td>\n",
              "      <td>1000.000000</td>\n",
              "      <td>1000.000000</td>\n",
              "      <td>1000.000000</td>\n",
              "      <td>1000.000000</td>\n",
              "      <td>1000.000000</td>\n",
              "      <td>1000.000000</td>\n",
              "      <td>1000.000000</td>\n",
              "      <td>1000.000000</td>\n",
              "      <td>1000.000000</td>\n",
              "      <td>1000.000000</td>\n",
              "      <td>1000.000000</td>\n",
              "      <td>1000.000000</td>\n",
              "      <td>1000.000000</td>\n",
              "      <td>1000.000000</td>\n",
              "      <td>1000.000000</td>\n",
              "      <td>1000.000000</td>\n",
              "      <td>1000.000000</td>\n",
              "      <td>1000.000000</td>\n",
              "      <td>1000.000000</td>\n",
              "      <td>1000.000000</td>\n",
              "      <td>1000.000000</td>\n",
              "      <td>1000.000000</td>\n",
              "      <td>1000.000000</td>\n",
              "      <td>1000.000000</td>\n",
              "      <td>1000.000000</td>\n",
              "      <td>1000.000000</td>\n",
              "      <td>1000.000000</td>\n",
              "      <td>1000.000000</td>\n",
              "      <td>1000.000000</td>\n",
              "      <td>1000.000000</td>\n",
              "      <td>1000.000000</td>\n",
              "      <td>1000.000000</td>\n",
              "      <td>1000.000000</td>\n",
              "      <td>1000.000000</td>\n",
              "      <td>1000.000000</td>\n",
              "      <td>1000.000000</td>\n",
              "      <td>1000.000000</td>\n",
              "      <td>1000.000000</td>\n",
              "      <td>1000.000000</td>\n",
              "    </tr>\n",
              "    <tr>\n",
              "      <th>mean</th>\n",
              "      <td>0.025596</td>\n",
              "      <td>-0.024526</td>\n",
              "      <td>-0.024088</td>\n",
              "      <td>-0.002271</td>\n",
              "      <td>1.092329</td>\n",
              "      <td>-0.006250</td>\n",
              "      <td>0.497342</td>\n",
              "      <td>-0.037883</td>\n",
              "      <td>0.026391</td>\n",
              "      <td>-0.003597</td>\n",
              "      <td>-0.016250</td>\n",
              "      <td>-0.038010</td>\n",
              "      <td>-1.985616</td>\n",
              "      <td>0.012374</td>\n",
              "      <td>-0.029229</td>\n",
              "      <td>-0.039307</td>\n",
              "      <td>-0.004091</td>\n",
              "      <td>-0.032836</td>\n",
              "      <td>0.428313</td>\n",
              "      <td>0.043427</td>\n",
              "      <td>0.073461</td>\n",
              "      <td>-0.005140</td>\n",
              "      <td>0.912288</td>\n",
              "      <td>0.902301</td>\n",
              "      <td>-0.023110</td>\n",
              "      <td>0.047473</td>\n",
              "      <td>-0.041117</td>\n",
              "      <td>0.012985</td>\n",
              "      <td>-0.395782</td>\n",
              "      <td>0.123921</td>\n",
              "      <td>0.030651</td>\n",
              "      <td>0.022951</td>\n",
              "      <td>-0.542491</td>\n",
              "      <td>-0.011608</td>\n",
              "      <td>-0.483507</td>\n",
              "      <td>0.033371</td>\n",
              "      <td>0.567185</td>\n",
              "      <td>0.006849</td>\n",
              "      <td>-0.892659</td>\n",
              "      <td>0.609451</td>\n",
              "    </tr>\n",
              "    <tr>\n",
              "      <th>std</th>\n",
              "      <td>1.008282</td>\n",
              "      <td>1.016298</td>\n",
              "      <td>0.979109</td>\n",
              "      <td>0.970575</td>\n",
              "      <td>4.538834</td>\n",
              "      <td>0.989128</td>\n",
              "      <td>2.118819</td>\n",
              "      <td>2.232256</td>\n",
              "      <td>1.001064</td>\n",
              "      <td>1.013520</td>\n",
              "      <td>1.026325</td>\n",
              "      <td>0.985889</td>\n",
              "      <td>4.528096</td>\n",
              "      <td>0.995652</td>\n",
              "      <td>2.164547</td>\n",
              "      <td>1.002481</td>\n",
              "      <td>0.970401</td>\n",
              "      <td>1.000130</td>\n",
              "      <td>2.176020</td>\n",
              "      <td>0.987689</td>\n",
              "      <td>0.967282</td>\n",
              "      <td>0.980319</td>\n",
              "      <td>2.178778</td>\n",
              "      <td>4.241903</td>\n",
              "      <td>1.019566</td>\n",
              "      <td>0.995752</td>\n",
              "      <td>0.998182</td>\n",
              "      <td>1.030610</td>\n",
              "      <td>2.296818</td>\n",
              "      <td>2.410453</td>\n",
              "      <td>1.011645</td>\n",
              "      <td>1.001375</td>\n",
              "      <td>2.239939</td>\n",
              "      <td>1.022456</td>\n",
              "      <td>2.121281</td>\n",
              "      <td>1.007044</td>\n",
              "      <td>2.227876</td>\n",
              "      <td>0.997635</td>\n",
              "      <td>2.022022</td>\n",
              "      <td>2.045439</td>\n",
              "    </tr>\n",
              "    <tr>\n",
              "      <th>min</th>\n",
              "      <td>-3.365711</td>\n",
              "      <td>-3.492086</td>\n",
              "      <td>-2.695602</td>\n",
              "      <td>-3.460471</td>\n",
              "      <td>-16.421901</td>\n",
              "      <td>-3.041250</td>\n",
              "      <td>-7.224761</td>\n",
              "      <td>-6.509084</td>\n",
              "      <td>-3.145588</td>\n",
              "      <td>-2.749812</td>\n",
              "      <td>-3.304074</td>\n",
              "      <td>-3.157436</td>\n",
              "      <td>-14.706080</td>\n",
              "      <td>-3.002151</td>\n",
              "      <td>-6.790633</td>\n",
              "      <td>-2.914729</td>\n",
              "      <td>-3.464048</td>\n",
              "      <td>-2.944093</td>\n",
              "      <td>-8.258306</td>\n",
              "      <td>-3.423875</td>\n",
              "      <td>-4.251382</td>\n",
              "      <td>-2.822644</td>\n",
              "      <td>-6.337522</td>\n",
              "      <td>-16.156070</td>\n",
              "      <td>-3.218446</td>\n",
              "      <td>-2.820792</td>\n",
              "      <td>-3.023811</td>\n",
              "      <td>-3.054384</td>\n",
              "      <td>-8.034421</td>\n",
              "      <td>-7.105723</td>\n",
              "      <td>-3.379194</td>\n",
              "      <td>-2.971125</td>\n",
              "      <td>-7.840890</td>\n",
              "      <td>-2.999564</td>\n",
              "      <td>-7.124105</td>\n",
              "      <td>-2.952358</td>\n",
              "      <td>-5.452254</td>\n",
              "      <td>-3.473913</td>\n",
              "      <td>-8.051722</td>\n",
              "      <td>-7.799086</td>\n",
              "    </tr>\n",
              "    <tr>\n",
              "      <th>25%</th>\n",
              "      <td>-0.669010</td>\n",
              "      <td>-0.693937</td>\n",
              "      <td>-0.698830</td>\n",
              "      <td>-0.617557</td>\n",
              "      <td>-1.801997</td>\n",
              "      <td>-0.732265</td>\n",
              "      <td>-0.838619</td>\n",
              "      <td>-1.604037</td>\n",
              "      <td>-0.677562</td>\n",
              "      <td>-0.682220</td>\n",
              "      <td>-0.713704</td>\n",
              "      <td>-0.730293</td>\n",
              "      <td>-5.094964</td>\n",
              "      <td>-0.694081</td>\n",
              "      <td>-1.441443</td>\n",
              "      <td>-0.757619</td>\n",
              "      <td>-0.668335</td>\n",
              "      <td>-0.727001</td>\n",
              "      <td>-0.983595</td>\n",
              "      <td>-0.594638</td>\n",
              "      <td>-0.588171</td>\n",
              "      <td>-0.698036</td>\n",
              "      <td>-0.542526</td>\n",
              "      <td>-1.822188</td>\n",
              "      <td>-0.720837</td>\n",
              "      <td>-0.617001</td>\n",
              "      <td>-0.668062</td>\n",
              "      <td>-0.696411</td>\n",
              "      <td>-1.936374</td>\n",
              "      <td>-1.562374</td>\n",
              "      <td>-0.659457</td>\n",
              "      <td>-0.696032</td>\n",
              "      <td>-2.121943</td>\n",
              "      <td>-0.664550</td>\n",
              "      <td>-1.879247</td>\n",
              "      <td>-0.642861</td>\n",
              "      <td>-1.059786</td>\n",
              "      <td>-0.691162</td>\n",
              "      <td>-2.220126</td>\n",
              "      <td>-0.565041</td>\n",
              "    </tr>\n",
              "    <tr>\n",
              "      <th>50%</th>\n",
              "      <td>0.027895</td>\n",
              "      <td>-0.033194</td>\n",
              "      <td>0.008145</td>\n",
              "      <td>0.002327</td>\n",
              "      <td>0.862818</td>\n",
              "      <td>0.027041</td>\n",
              "      <td>0.582321</td>\n",
              "      <td>0.018809</td>\n",
              "      <td>0.022092</td>\n",
              "      <td>-0.036110</td>\n",
              "      <td>0.019479</td>\n",
              "      <td>-0.075950</td>\n",
              "      <td>-2.103532</td>\n",
              "      <td>-0.005946</td>\n",
              "      <td>-0.033219</td>\n",
              "      <td>-0.019046</td>\n",
              "      <td>0.008360</td>\n",
              "      <td>-0.011366</td>\n",
              "      <td>0.488217</td>\n",
              "      <td>0.082688</td>\n",
              "      <td>0.094307</td>\n",
              "      <td>-0.004404</td>\n",
              "      <td>1.050071</td>\n",
              "      <td>0.970403</td>\n",
              "      <td>-0.012183</td>\n",
              "      <td>0.014636</td>\n",
              "      <td>-0.017535</td>\n",
              "      <td>0.039219</td>\n",
              "      <td>-0.489296</td>\n",
              "      <td>-0.040604</td>\n",
              "      <td>0.049416</td>\n",
              "      <td>0.049778</td>\n",
              "      <td>-0.568262</td>\n",
              "      <td>-0.028097</td>\n",
              "      <td>-0.493575</td>\n",
              "      <td>0.037732</td>\n",
              "      <td>0.455474</td>\n",
              "      <td>0.038284</td>\n",
              "      <td>-0.855470</td>\n",
              "      <td>0.779944</td>\n",
              "    </tr>\n",
              "    <tr>\n",
              "      <th>75%</th>\n",
              "      <td>0.762520</td>\n",
              "      <td>0.682753</td>\n",
              "      <td>0.661434</td>\n",
              "      <td>0.640743</td>\n",
              "      <td>3.843172</td>\n",
              "      <td>0.671456</td>\n",
              "      <td>1.913664</td>\n",
              "      <td>1.438304</td>\n",
              "      <td>0.741310</td>\n",
              "      <td>0.665364</td>\n",
              "      <td>0.709416</td>\n",
              "      <td>0.644553</td>\n",
              "      <td>1.186164</td>\n",
              "      <td>0.664921</td>\n",
              "      <td>1.492611</td>\n",
              "      <td>0.678748</td>\n",
              "      <td>0.674583</td>\n",
              "      <td>0.588732</td>\n",
              "      <td>1.915022</td>\n",
              "      <td>0.711525</td>\n",
              "      <td>0.727896</td>\n",
              "      <td>0.673427</td>\n",
              "      <td>2.367748</td>\n",
              "      <td>3.825862</td>\n",
              "      <td>0.671318</td>\n",
              "      <td>0.731892</td>\n",
              "      <td>0.642797</td>\n",
              "      <td>0.706336</td>\n",
              "      <td>1.044188</td>\n",
              "      <td>1.614308</td>\n",
              "      <td>0.747031</td>\n",
              "      <td>0.699917</td>\n",
              "      <td>0.939348</td>\n",
              "      <td>0.651374</td>\n",
              "      <td>1.005795</td>\n",
              "      <td>0.691800</td>\n",
              "      <td>2.122157</td>\n",
              "      <td>0.693535</td>\n",
              "      <td>0.388698</td>\n",
              "      <td>1.992193</td>\n",
              "    </tr>\n",
              "    <tr>\n",
              "      <th>max</th>\n",
              "      <td>3.326246</td>\n",
              "      <td>3.583870</td>\n",
              "      <td>2.546507</td>\n",
              "      <td>3.088738</td>\n",
              "      <td>17.565345</td>\n",
              "      <td>3.102997</td>\n",
              "      <td>7.592666</td>\n",
              "      <td>7.130097</td>\n",
              "      <td>3.145258</td>\n",
              "      <td>3.919426</td>\n",
              "      <td>3.409653</td>\n",
              "      <td>3.253032</td>\n",
              "      <td>12.186445</td>\n",
              "      <td>3.737423</td>\n",
              "      <td>6.959736</td>\n",
              "      <td>3.100935</td>\n",
              "      <td>2.805197</td>\n",
              "      <td>3.291544</td>\n",
              "      <td>7.074432</td>\n",
              "      <td>3.343812</td>\n",
              "      <td>2.938033</td>\n",
              "      <td>3.053262</td>\n",
              "      <td>8.096838</td>\n",
              "      <td>14.373681</td>\n",
              "      <td>2.981582</td>\n",
              "      <td>3.662800</td>\n",
              "      <td>3.293911</td>\n",
              "      <td>3.069885</td>\n",
              "      <td>7.413173</td>\n",
              "      <td>8.812739</td>\n",
              "      <td>2.844792</td>\n",
              "      <td>3.688047</td>\n",
              "      <td>7.160379</td>\n",
              "      <td>3.353631</td>\n",
              "      <td>6.005818</td>\n",
              "      <td>3.420561</td>\n",
              "      <td>6.603499</td>\n",
              "      <td>3.492548</td>\n",
              "      <td>5.774120</td>\n",
              "      <td>6.803984</td>\n",
              "    </tr>\n",
              "  </tbody>\n",
              "</table>\n",
              "</div>"
            ],
            "text/plain": [
              "                0            1   ...           38           39\n",
              "count  1000.000000  1000.000000  ...  1000.000000  1000.000000\n",
              "mean      0.025596    -0.024526  ...    -0.892659     0.609451\n",
              "std       1.008282     1.016298  ...     2.022022     2.045439\n",
              "min      -3.365711    -3.492086  ...    -8.051722    -7.799086\n",
              "25%      -0.669010    -0.693937  ...    -2.220126    -0.565041\n",
              "50%       0.027895    -0.033194  ...    -0.855470     0.779944\n",
              "75%       0.762520     0.682753  ...     0.388698     1.992193\n",
              "max       3.326246     3.583870  ...     5.774120     6.803984\n",
              "\n",
              "[8 rows x 40 columns]"
            ]
          },
          "metadata": {},
          "execution_count": 126
        }
      ]
    },
    {
      "cell_type": "code",
      "metadata": {
        "colab": {
          "base_uri": "https://localhost:8080/"
        },
        "id": "a-FjBTcrvzBQ",
        "outputId": "864bc61e-b771-489b-931e-c4e232d1fce8"
      },
      "source": [
        "train.info()\n",
        "test.info()\n",
        "train_labels.info()"
      ],
      "execution_count": null,
      "outputs": [
        {
          "output_type": "stream",
          "name": "stdout",
          "text": [
            "<class 'pandas.core.frame.DataFrame'>\n",
            "RangeIndex: 1000 entries, 0 to 999\n",
            "Data columns (total 40 columns):\n",
            " #   Column  Non-Null Count  Dtype  \n",
            "---  ------  --------------  -----  \n",
            " 0   0       1000 non-null   float64\n",
            " 1   1       1000 non-null   float64\n",
            " 2   2       1000 non-null   float64\n",
            " 3   3       1000 non-null   float64\n",
            " 4   4       1000 non-null   float64\n",
            " 5   5       1000 non-null   float64\n",
            " 6   6       1000 non-null   float64\n",
            " 7   7       1000 non-null   float64\n",
            " 8   8       1000 non-null   float64\n",
            " 9   9       1000 non-null   float64\n",
            " 10  10      1000 non-null   float64\n",
            " 11  11      1000 non-null   float64\n",
            " 12  12      1000 non-null   float64\n",
            " 13  13      1000 non-null   float64\n",
            " 14  14      1000 non-null   float64\n",
            " 15  15      1000 non-null   float64\n",
            " 16  16      1000 non-null   float64\n",
            " 17  17      1000 non-null   float64\n",
            " 18  18      1000 non-null   float64\n",
            " 19  19      1000 non-null   float64\n",
            " 20  20      1000 non-null   float64\n",
            " 21  21      1000 non-null   float64\n",
            " 22  22      1000 non-null   float64\n",
            " 23  23      1000 non-null   float64\n",
            " 24  24      1000 non-null   float64\n",
            " 25  25      1000 non-null   float64\n",
            " 26  26      1000 non-null   float64\n",
            " 27  27      1000 non-null   float64\n",
            " 28  28      1000 non-null   float64\n",
            " 29  29      1000 non-null   float64\n",
            " 30  30      1000 non-null   float64\n",
            " 31  31      1000 non-null   float64\n",
            " 32  32      1000 non-null   float64\n",
            " 33  33      1000 non-null   float64\n",
            " 34  34      1000 non-null   float64\n",
            " 35  35      1000 non-null   float64\n",
            " 36  36      1000 non-null   float64\n",
            " 37  37      1000 non-null   float64\n",
            " 38  38      1000 non-null   float64\n",
            " 39  39      1000 non-null   float64\n",
            "dtypes: float64(40)\n",
            "memory usage: 312.6 KB\n",
            "<class 'pandas.core.frame.DataFrame'>\n",
            "RangeIndex: 9000 entries, 0 to 8999\n",
            "Data columns (total 40 columns):\n",
            " #   Column  Non-Null Count  Dtype  \n",
            "---  ------  --------------  -----  \n",
            " 0   0       9000 non-null   float64\n",
            " 1   1       9000 non-null   float64\n",
            " 2   2       9000 non-null   float64\n",
            " 3   3       9000 non-null   float64\n",
            " 4   4       9000 non-null   float64\n",
            " 5   5       9000 non-null   float64\n",
            " 6   6       9000 non-null   float64\n",
            " 7   7       9000 non-null   float64\n",
            " 8   8       9000 non-null   float64\n",
            " 9   9       9000 non-null   float64\n",
            " 10  10      9000 non-null   float64\n",
            " 11  11      9000 non-null   float64\n",
            " 12  12      9000 non-null   float64\n",
            " 13  13      9000 non-null   float64\n",
            " 14  14      9000 non-null   float64\n",
            " 15  15      9000 non-null   float64\n",
            " 16  16      9000 non-null   float64\n",
            " 17  17      9000 non-null   float64\n",
            " 18  18      9000 non-null   float64\n",
            " 19  19      9000 non-null   float64\n",
            " 20  20      9000 non-null   float64\n",
            " 21  21      9000 non-null   float64\n",
            " 22  22      9000 non-null   float64\n",
            " 23  23      9000 non-null   float64\n",
            " 24  24      9000 non-null   float64\n",
            " 25  25      9000 non-null   float64\n",
            " 26  26      9000 non-null   float64\n",
            " 27  27      9000 non-null   float64\n",
            " 28  28      9000 non-null   float64\n",
            " 29  29      9000 non-null   float64\n",
            " 30  30      9000 non-null   float64\n",
            " 31  31      9000 non-null   float64\n",
            " 32  32      9000 non-null   float64\n",
            " 33  33      9000 non-null   float64\n",
            " 34  34      9000 non-null   float64\n",
            " 35  35      9000 non-null   float64\n",
            " 36  36      9000 non-null   float64\n",
            " 37  37      9000 non-null   float64\n",
            " 38  38      9000 non-null   float64\n",
            " 39  39      9000 non-null   float64\n",
            "dtypes: float64(40)\n",
            "memory usage: 2.7 MB\n",
            "<class 'pandas.core.frame.DataFrame'>\n",
            "RangeIndex: 1000 entries, 0 to 999\n",
            "Data columns (total 1 columns):\n",
            " #   Column  Non-Null Count  Dtype\n",
            "---  ------  --------------  -----\n",
            " 0   0       1000 non-null   int64\n",
            "dtypes: int64(1)\n",
            "memory usage: 7.9 KB\n"
          ]
        }
      ]
    },
    {
      "cell_type": "code",
      "metadata": {
        "colab": {
          "base_uri": "https://localhost:8080/"
        },
        "id": "r6g9uQU1w5fw",
        "outputId": "deae7391-060d-47b0-c76a-653eb32c89b0"
      },
      "source": [
        "train.isnull().sum()\n",
        "train_labels.isnull().sum()"
      ],
      "execution_count": null,
      "outputs": [
        {
          "output_type": "execute_result",
          "data": {
            "text/plain": [
              "0    0\n",
              "dtype: int64"
            ]
          },
          "metadata": {},
          "execution_count": 128
        }
      ]
    },
    {
      "cell_type": "code",
      "metadata": {
        "colab": {
          "base_uri": "https://localhost:8080/"
        },
        "id": "KvzvauMqTkAe",
        "outputId": "d3c464f9-e969-4333-b667-127dc91eed19"
      },
      "source": [
        "test.isnull().sum()"
      ],
      "execution_count": null,
      "outputs": [
        {
          "output_type": "execute_result",
          "data": {
            "text/plain": [
              "0     0\n",
              "1     0\n",
              "2     0\n",
              "3     0\n",
              "4     0\n",
              "5     0\n",
              "6     0\n",
              "7     0\n",
              "8     0\n",
              "9     0\n",
              "10    0\n",
              "11    0\n",
              "12    0\n",
              "13    0\n",
              "14    0\n",
              "15    0\n",
              "16    0\n",
              "17    0\n",
              "18    0\n",
              "19    0\n",
              "20    0\n",
              "21    0\n",
              "22    0\n",
              "23    0\n",
              "24    0\n",
              "25    0\n",
              "26    0\n",
              "27    0\n",
              "28    0\n",
              "29    0\n",
              "30    0\n",
              "31    0\n",
              "32    0\n",
              "33    0\n",
              "34    0\n",
              "35    0\n",
              "36    0\n",
              "37    0\n",
              "38    0\n",
              "39    0\n",
              "dtype: int64"
            ]
          },
          "metadata": {},
          "execution_count": 129
        }
      ]
    },
    {
      "cell_type": "code",
      "metadata": {
        "colab": {
          "base_uri": "https://localhost:8080/",
          "height": 1000
        },
        "id": "6fOBH-iJsFGt",
        "outputId": "05e9494d-a036-4c59-85fe-41a304fd9e6e"
      },
      "source": [
        "train.hist(figsize=(15,15))"
      ],
      "execution_count": null,
      "outputs": [
        {
          "output_type": "execute_result",
          "data": {
            "text/plain": [
              "array([[<matplotlib.axes._subplots.AxesSubplot object at 0x7f83dabe3650>,\n",
              "        <matplotlib.axes._subplots.AxesSubplot object at 0x7f83d999ccd0>,\n",
              "        <matplotlib.axes._subplots.AxesSubplot object at 0x7f83da58f110>,\n",
              "        <matplotlib.axes._subplots.AxesSubplot object at 0x7f83d920e950>,\n",
              "        <matplotlib.axes._subplots.AxesSubplot object at 0x7f83d93bf390>,\n",
              "        <matplotlib.axes._subplots.AxesSubplot object at 0x7f83d093e8d0>],\n",
              "       [<matplotlib.axes._subplots.AxesSubplot object at 0x7f83d08e4a90>,\n",
              "        <matplotlib.axes._subplots.AxesSubplot object at 0x7f83d08ac650>,\n",
              "        <matplotlib.axes._subplots.AxesSubplot object at 0x7f83d08ac690>,\n",
              "        <matplotlib.axes._subplots.AxesSubplot object at 0x7f83d0861e10>,\n",
              "        <matplotlib.axes._subplots.AxesSubplot object at 0x7f83d07d8a50>,\n",
              "        <matplotlib.axes._subplots.AxesSubplot object at 0x7f83d079c110>],\n",
              "       [<matplotlib.axes._subplots.AxesSubplot object at 0x7f83d0751790>,\n",
              "        <matplotlib.axes._subplots.AxesSubplot object at 0x7f83d0786e10>,\n",
              "        <matplotlib.axes._subplots.AxesSubplot object at 0x7f83d07494d0>,\n",
              "        <matplotlib.axes._subplots.AxesSubplot object at 0x7f83d06feb50>,\n",
              "        <matplotlib.axes._subplots.AxesSubplot object at 0x7f83d06c2210>,\n",
              "        <matplotlib.axes._subplots.AxesSubplot object at 0x7f83d0677890>],\n",
              "       [<matplotlib.axes._subplots.AxesSubplot object at 0x7f83d062cf10>,\n",
              "        <matplotlib.axes._subplots.AxesSubplot object at 0x7f83d05ef5d0>,\n",
              "        <matplotlib.axes._subplots.AxesSubplot object at 0x7f83d05a6c50>,\n",
              "        <matplotlib.axes._subplots.AxesSubplot object at 0x7f83d0568310>,\n",
              "        <matplotlib.axes._subplots.AxesSubplot object at 0x7f83d051d990>,\n",
              "        <matplotlib.axes._subplots.AxesSubplot object at 0x7f83d04d4fd0>],\n",
              "       [<matplotlib.axes._subplots.AxesSubplot object at 0x7f83d04976d0>,\n",
              "        <matplotlib.axes._subplots.AxesSubplot object at 0x7f83d044bd50>,\n",
              "        <matplotlib.axes._subplots.AxesSubplot object at 0x7f83d040d410>,\n",
              "        <matplotlib.axes._subplots.AxesSubplot object at 0x7f83d0443a90>,\n",
              "        <matplotlib.axes._subplots.AxesSubplot object at 0x7f83d0406150>,\n",
              "        <matplotlib.axes._subplots.AxesSubplot object at 0x7f83d03baa50>],\n",
              "       [<matplotlib.axes._subplots.AxesSubplot object at 0x7f83d0366ad0>,\n",
              "        <matplotlib.axes._subplots.AxesSubplot object at 0x7f83d0332590>,\n",
              "        <matplotlib.axes._subplots.AxesSubplot object at 0x7f83d02e6b10>,\n",
              "        <matplotlib.axes._subplots.AxesSubplot object at 0x7f83d02aa0d0>,\n",
              "        <matplotlib.axes._subplots.AxesSubplot object at 0x7f83d025f650>,\n",
              "        <matplotlib.axes._subplots.AxesSubplot object at 0x7f83d0215bd0>],\n",
              "       [<matplotlib.axes._subplots.AxesSubplot object at 0x7f83d01d7190>,\n",
              "        <matplotlib.axes._subplots.AxesSubplot object at 0x7f83d018c710>,\n",
              "        <matplotlib.axes._subplots.AxesSubplot object at 0x7f83d01c1c90>,\n",
              "        <matplotlib.axes._subplots.AxesSubplot object at 0x7f83d0183250>,\n",
              "        <matplotlib.axes._subplots.AxesSubplot object at 0x7f83d01397d0>,\n",
              "        <matplotlib.axes._subplots.AxesSubplot object at 0x7f83d00efd50>]],\n",
              "      dtype=object)"
            ]
          },
          "metadata": {},
          "execution_count": 79
        },
        {
          "output_type": "display_data",
          "data": {
            "image/png": "[encoded data removed]",
            "text/plain": [
              "<Figure size 1080x1080 with 42 Axes>"
            ]
          },
          "metadata": {
            "needs_background": "light"
          }
        }
      ]
    },
    {
      "cell_type": "code",
      "metadata": {
        "id": "wz4vn74ljbmq"
      },
      "source": [
        "from sklearn.preprocessing import MinMaxScaler\n",
        "scaler = MinMaxScaler()\n",
        "train = scaler.fit_transform(train.values)"
      ],
      "execution_count": null,
      "outputs": []
    },
    {
      "cell_type": "code",
      "metadata": {
        "id": "RuBmeab-xiz_"
      },
      "source": [
        "#from sklearn.model_selection import train_test_split\n",
        "#x_train,x_test,y_train,y_test = train_test_split(train,train_labels, test_size = 0.20, random_state = 101)\n",
        "#x_train.shape,x_test.shape,y_train.shape,y_test.shape\n"
      ],
      "execution_count": null,
      "outputs": []
    },
    {
      "cell_type": "code",
      "metadata": {
        "colab": {
          "base_uri": "https://localhost:8080/"
        },
        "id": "u-Gz67_Z1jHe",
        "outputId": "9d6f7f51-9cf3-43ab-a528-51fde3a64a3c"
      },
      "source": [
        "from sklearn.model_selection import StratifiedKFold\n",
        "skf = StratifiedKFold(n_splits=5, random_state=None)\n",
        "# X is the feature set and y is the target\n",
        "for train_index, test_index in skf.split(train,train_labels): \n",
        "    print(\"Train:\", train_index, \"Validation:\", test_index) \n",
        "    x_train, x_test = train[train_index], train[test_index] \n",
        "    y_train, y_test = train_labels.iloc[train_index], train_labels.iloc[test_index]"
      ],
      "execution_count": null,
      "outputs": [
        {
          "output_type": "stream",
          "name": "stdout",
          "text": [
            "Train: [200 201 202 203 204 205 206 207 208 209 210 211 212 213 214 215 216 217\n",
            " 218 219 220 221 222 223 224 225 226 227 228 229 230 231 232 233 234 235\n",
            " 236 237 238 239 240 241 242 243 244 245 246 247 248 249 250 251 252 253\n",
            " 254 255 256 257 258 259 260 261 262 263 264 265 266 267 268 269 270 271\n",
            " 272 273 274 275 276 277 278 279 280 281 282 283 284 285 286 287 288 289\n",
            " 290 291 292 293 294 295 296 297 298 299 300 301 302 303 304 305 306 307\n",
            " 308 309 310 311 312 313 314 315 316 317 318 319 320 321 322 323 324 325\n",
            " 326 327 328 329 330 331 332 333 334 335 336 337 338 339 340 341 342 343\n",
            " 344 345 346 347 348 349 350 351 352 353 354 355 356 357 358 359 360 361\n",
            " 362 363 364 365 366 367 368 369 370 371 372 373 374 375 376 377 378 379\n",
            " 380 381 382 383 384 385 386 387 388 389 390 391 392 393 394 395 396 397\n",
            " 398 399 400 401 402 403 404 405 406 407 408 409 410 411 412 413 414 415\n",
            " 416 417 418 419 420 421 422 423 424 425 426 427 428 429 430 431 432 433\n",
            " 434 435 436 437 438 439 440 441 442 443 444 445 446 447 448 449 450 451\n",
            " 452 453 454 455 456 457 458 459 460 461 462 463 464 465 466 467 468 469\n",
            " 470 471 472 473 474 475 476 477 478 479 480 481 482 483 484 485 486 487\n",
            " 488 489 490 491 492 493 494 495 496 497 498 499 500 501 502 503 504 505\n",
            " 506 507 508 509 510 511 512 513 514 515 516 517 518 519 520 521 522 523\n",
            " 524 525 526 527 528 529 530 531 532 533 534 535 536 537 538 539 540 541\n",
            " 542 543 544 545 546 547 548 549 550 551 552 553 554 555 556 557 558 559\n",
            " 560 561 562 563 564 565 566 567 568 569 570 571 572 573 574 575 576 577\n",
            " 578 579 580 581 582 583 584 585 586 587 588 589 590 591 592 593 594 595\n",
            " 596 597 598 599 600 601 602 603 604 605 606 607 608 609 610 611 612 613\n",
            " 614 615 616 617 618 619 620 621 622 623 624 625 626 627 628 629 630 631\n",
            " 632 633 634 635 636 637 638 639 640 641 642 643 644 645 646 647 648 649\n",
            " 650 651 652 653 654 655 656 657 658 659 660 661 662 663 664 665 666 667\n",
            " 668 669 670 671 672 673 674 675 676 677 678 679 680 681 682 683 684 685\n",
            " 686 687 688 689 690 691 692 693 694 695 696 697 698 699 700 701 702 703\n",
            " 704 705 706 707 708 709 710 711 712 713 714 715 716 717 718 719 720 721\n",
            " 722 723 724 725 726 727 728 729 730 731 732 733 734 735 736 737 738 739\n",
            " 740 741 742 743 744 745 746 747 748 749 750 751 752 753 754 755 756 757\n",
            " 758 759 760 761 762 763 764 765 766 767 768 769 770 771 772 773 774 775\n",
            " 776 777 778 779 780 781 782 783 784 785 786 787 788 789 790 791 792 793\n",
            " 794 795 796 797 798 799 800 801 802 803 804 805 806 807 808 809 810 811\n",
            " 812 813 814 815 816 817 818 819 820 821 822 823 824 825 826 827 828 829\n",
            " 830 831 832 833 834 835 836 837 838 839 840 841 842 843 844 845 846 847\n",
            " 848 849 850 851 852 853 854 855 856 857 858 859 860 861 862 863 864 865\n",
            " 866 867 868 869 870 871 872 873 874 875 876 877 878 879 880 881 882 883\n",
            " 884 885 886 887 888 889 890 891 892 893 894 895 896 897 898 899 900 901\n",
            " 902 903 904 905 906 907 908 909 910 911 912 913 914 915 916 917 918 919\n",
            " 920 921 922 923 924 925 926 927 928 929 930 931 932 933 934 935 936 937\n",
            " 938 939 940 941 942 943 944 945 946 947 948 949 950 951 952 953 954 955\n",
            " 956 957 958 959 960 961 962 963 964 965 966 967 968 969 970 971 972 973\n",
            " 974 975 976 977 978 979 980 981 982 983 984 985 986 987 988 989 990 991\n",
            " 992 993 994 995 996 997 998 999] Validation: [  0   1   2   3   4   5   6   7   8   9  10  11  12  13  14  15  16  17\n",
            "  18  19  20  21  22  23  24  25  26  27  28  29  30  31  32  33  34  35\n",
            "  36  37  38  39  40  41  42  43  44  45  46  47  48  49  50  51  52  53\n",
            "  54  55  56  57  58  59  60  61  62  63  64  65  66  67  68  69  70  71\n",
            "  72  73  74  75  76  77  78  79  80  81  82  83  84  85  86  87  88  89\n",
            "  90  91  92  93  94  95  96  97  98  99 100 101 102 103 104 105 106 107\n",
            " 108 109 110 111 112 113 114 115 116 117 118 119 120 121 122 123 124 125\n",
            " 126 127 128 129 130 131 132 133 134 135 136 137 138 139 140 141 142 143\n",
            " 144 145 146 147 148 149 150 151 152 153 154 155 156 157 158 159 160 161\n",
            " 162 163 164 165 166 167 168 169 170 171 172 173 174 175 176 177 178 179\n",
            " 180 181 182 183 184 185 186 187 188 189 190 191 192 193 194 195 196 197\n",
            " 198 199]\n",
            "Train: [  0   1   2   3   4   5   6   7   8   9  10  11  12  13  14  15  16  17\n",
            "  18  19  20  21  22  23  24  25  26  27  28  29  30  31  32  33  34  35\n",
            "  36  37  38  39  40  41  42  43  44  45  46  47  48  49  50  51  52  53\n",
            "  54  55  56  57  58  59  60  61  62  63  64  65  66  67  68  69  70  71\n",
            "  72  73  74  75  76  77  78  79  80  81  82  83  84  85  86  87  88  89\n",
            "  90  91  92  93  94  95  96  97  98  99 100 101 102 103 104 105 106 107\n",
            " 108 109 110 111 112 113 114 115 116 117 118 119 120 121 122 123 124 125\n",
            " 126 127 128 129 130 131 132 133 134 135 136 137 138 139 140 141 142 143\n",
            " 144 145 146 147 148 149 150 151 152 153 154 155 156 157 158 159 160 161\n",
            " 162 163 164 165 166 167 168 169 170 171 172 173 174 175 176 177 178 179\n",
            " 180 181 182 183 184 185 186 187 188 189 190 191 192 193 194 195 196 197\n",
            " 198 199 399 401 402 403 404 405 406 407 408 409 410 411 412 413 414 415\n",
            " 416 417 418 419 420 421 422 423 424 425 426 427 428 429 430 431 432 433\n",
            " 434 435 436 437 438 439 440 441 442 443 444 445 446 447 448 449 450 451\n",
            " 452 453 454 455 456 457 458 459 460 461 462 463 464 465 466 467 468 469\n",
            " 470 471 472 473 474 475 476 477 478 479 480 481 482 483 484 485 486 487\n",
            " 488 489 490 491 492 493 494 495 496 497 498 499 500 501 502 503 504 505\n",
            " 506 507 508 509 510 511 512 513 514 515 516 517 518 519 520 521 522 523\n",
            " 524 525 526 527 528 529 530 531 532 533 534 535 536 537 538 539 540 541\n",
            " 542 543 544 545 546 547 548 549 550 551 552 553 554 555 556 557 558 559\n",
            " 560 561 562 563 564 565 566 567 568 569 570 571 572 573 574 575 576 577\n",
            " 578 579 580 581 582 583 584 585 586 587 588 589 590 591 592 593 594 595\n",
            " 596 597 598 599 600 601 602 603 604 605 606 607 608 609 610 611 612 613\n",
            " 614 615 616 617 618 619 620 621 622 623 624 625 626 627 628 629 630 631\n",
            " 632 633 634 635 636 637 638 639 640 641 642 643 644 645 646 647 648 649\n",
            " 650 651 652 653 654 655 656 657 658 659 660 661 662 663 664 665 666 667\n",
            " 668 669 670 671 672 673 674 675 676 677 678 679 680 681 682 683 684 685\n",
            " 686 687 688 689 690 691 692 693 694 695 696 697 698 699 700 701 702 703\n",
            " 704 705 706 707 708 709 710 711 712 713 714 715 716 717 718 719 720 721\n",
            " 722 723 724 725 726 727 728 729 730 731 732 733 734 735 736 737 738 739\n",
            " 740 741 742 743 744 745 746 747 748 749 750 751 752 753 754 755 756 757\n",
            " 758 759 760 761 762 763 764 765 766 767 768 769 770 771 772 773 774 775\n",
            " 776 777 778 779 780 781 782 783 784 785 786 787 788 789 790 791 792 793\n",
            " 794 795 796 797 798 799 800 801 802 803 804 805 806 807 808 809 810 811\n",
            " 812 813 814 815 816 817 818 819 820 821 822 823 824 825 826 827 828 829\n",
            " 830 831 832 833 834 835 836 837 838 839 840 841 842 843 844 845 846 847\n",
            " 848 849 850 851 852 853 854 855 856 857 858 859 860 861 862 863 864 865\n",
            " 866 867 868 869 870 871 872 873 874 875 876 877 878 879 880 881 882 883\n",
            " 884 885 886 887 888 889 890 891 892 893 894 895 896 897 898 899 900 901\n",
            " 902 903 904 905 906 907 908 909 910 911 912 913 914 915 916 917 918 919\n",
            " 920 921 922 923 924 925 926 927 928 929 930 931 932 933 934 935 936 937\n",
            " 938 939 940 941 942 943 944 945 946 947 948 949 950 951 952 953 954 955\n",
            " 956 957 958 959 960 961 962 963 964 965 966 967 968 969 970 971 972 973\n",
            " 974 975 976 977 978 979 980 981 982 983 984 985 986 987 988 989 990 991\n",
            " 992 993 994 995 996 997 998 999] Validation: [200 201 202 203 204 205 206 207 208 209 210 211 212 213 214 215 216 217\n",
            " 218 219 220 221 222 223 224 225 226 227 228 229 230 231 232 233 234 235\n",
            " 236 237 238 239 240 241 242 243 244 245 246 247 248 249 250 251 252 253\n",
            " 254 255 256 257 258 259 260 261 262 263 264 265 266 267 268 269 270 271\n",
            " 272 273 274 275 276 277 278 279 280 281 282 283 284 285 286 287 288 289\n",
            " 290 291 292 293 294 295 296 297 298 299 300 301 302 303 304 305 306 307\n",
            " 308 309 310 311 312 313 314 315 316 317 318 319 320 321 322 323 324 325\n",
            " 326 327 328 329 330 331 332 333 334 335 336 337 338 339 340 341 342 343\n",
            " 344 345 346 347 348 349 350 351 352 353 354 355 356 357 358 359 360 361\n",
            " 362 363 364 365 366 367 368 369 370 371 372 373 374 375 376 377 378 379\n",
            " 380 381 382 383 384 385 386 387 388 389 390 391 392 393 394 395 396 397\n",
            " 398 400]\n",
            "Train: [  0   1   2   3   4   5   6   7   8   9  10  11  12  13  14  15  16  17\n",
            "  18  19  20  21  22  23  24  25  26  27  28  29  30  31  32  33  34  35\n",
            "  36  37  38  39  40  41  42  43  44  45  46  47  48  49  50  51  52  53\n",
            "  54  55  56  57  58  59  60  61  62  63  64  65  66  67  68  69  70  71\n",
            "  72  73  74  75  76  77  78  79  80  81  82  83  84  85  86  87  88  89\n",
            "  90  91  92  93  94  95  96  97  98  99 100 101 102 103 104 105 106 107\n",
            " 108 109 110 111 112 113 114 115 116 117 118 119 120 121 122 123 124 125\n",
            " 126 127 128 129 130 131 132 133 134 135 136 137 138 139 140 141 142 143\n",
            " 144 145 146 147 148 149 150 151 152 153 154 155 156 157 158 159 160 161\n",
            " 162 163 164 165 166 167 168 169 170 171 172 173 174 175 176 177 178 179\n",
            " 180 181 182 183 184 185 186 187 188 189 190 191 192 193 194 195 196 197\n",
            " 198 199 200 201 202 203 204 205 206 207 208 209 210 211 212 213 214 215\n",
            " 216 217 218 219 220 221 222 223 224 225 226 227 228 229 230 231 232 233\n",
            " 234 235 236 237 238 239 240 241 242 243 244 245 246 247 248 249 250 251\n",
            " 252 253 254 255 256 257 258 259 260 261 262 263 264 265 266 267 268 269\n",
            " 270 271 272 273 274 275 276 277 278 279 280 281 282 283 284 285 286 287\n",
            " 288 289 290 291 292 293 294 295 296 297 298 299 300 301 302 303 304 305\n",
            " 306 307 308 309 310 311 312 313 314 315 316 317 318 319 320 321 322 323\n",
            " 324 325 326 327 328 329 330 331 332 333 334 335 336 337 338 339 340 341\n",
            " 342 343 344 345 346 347 348 349 350 351 352 353 354 355 356 357 358 359\n",
            " 360 361 362 363 364 365 366 367 368 369 370 371 372 373 374 375 376 377\n",
            " 378 379 380 381 382 383 384 385 386 387 388 389 390 391 392 393 394 395\n",
            " 396 397 398 400 595 598 599 600 601 604 606 607 608 609 610 611 612 613\n",
            " 614 615 616 617 618 619 620 621 622 623 624 625 626 627 628 629 630 631\n",
            " 632 633 634 635 636 637 638 639 640 641 642 643 644 645 646 647 648 649\n",
            " 650 651 652 653 654 655 656 657 658 659 660 661 662 663 664 665 666 667\n",
            " 668 669 670 671 672 673 674 675 676 677 678 679 680 681 682 683 684 685\n",
            " 686 687 688 689 690 691 692 693 694 695 696 697 698 699 700 701 702 703\n",
            " 704 705 706 707 708 709 710 711 712 713 714 715 716 717 718 719 720 721\n",
            " 722 723 724 725 726 727 728 729 730 731 732 733 734 735 736 737 738 739\n",
            " 740 741 742 743 744 745 746 747 748 749 750 751 752 753 754 755 756 757\n",
            " 758 759 760 761 762 763 764 765 766 767 768 769 770 771 772 773 774 775\n",
            " 776 777 778 779 780 781 782 783 784 785 786 787 788 789 790 791 792 793\n",
            " 794 795 796 797 798 799 800 801 802 803 804 805 806 807 808 809 810 811\n",
            " 812 813 814 815 816 817 818 819 820 821 822 823 824 825 826 827 828 829\n",
            " 830 831 832 833 834 835 836 837 838 839 840 841 842 843 844 845 846 847\n",
            " 848 849 850 851 852 853 854 855 856 857 858 859 860 861 862 863 864 865\n",
            " 866 867 868 869 870 871 872 873 874 875 876 877 878 879 880 881 882 883\n",
            " 884 885 886 887 888 889 890 891 892 893 894 895 896 897 898 899 900 901\n",
            " 902 903 904 905 906 907 908 909 910 911 912 913 914 915 916 917 918 919\n",
            " 920 921 922 923 924 925 926 927 928 929 930 931 932 933 934 935 936 937\n",
            " 938 939 940 941 942 943 944 945 946 947 948 949 950 951 952 953 954 955\n",
            " 956 957 958 959 960 961 962 963 964 965 966 967 968 969 970 971 972 973\n",
            " 974 975 976 977 978 979 980 981 982 983 984 985 986 987 988 989 990 991\n",
            " 992 993 994 995 996 997 998 999] Validation: [399 401 402 403 404 405 406 407 408 409 410 411 412 413 414 415 416 417\n",
            " 418 419 420 421 422 423 424 425 426 427 428 429 430 431 432 433 434 435\n",
            " 436 437 438 439 440 441 442 443 444 445 446 447 448 449 450 451 452 453\n",
            " 454 455 456 457 458 459 460 461 462 463 464 465 466 467 468 469 470 471\n",
            " 472 473 474 475 476 477 478 479 480 481 482 483 484 485 486 487 488 489\n",
            " 490 491 492 493 494 495 496 497 498 499 500 501 502 503 504 505 506 507\n",
            " 508 509 510 511 512 513 514 515 516 517 518 519 520 521 522 523 524 525\n",
            " 526 527 528 529 530 531 532 533 534 535 536 537 538 539 540 541 542 543\n",
            " 544 545 546 547 548 549 550 551 552 553 554 555 556 557 558 559 560 561\n",
            " 562 563 564 565 566 567 568 569 570 571 572 573 574 575 576 577 578 579\n",
            " 580 581 582 583 584 585 586 587 588 589 590 591 592 593 594 596 597 602\n",
            " 603 605]\n",
            "Train: [  0   1   2   3   4   5   6   7   8   9  10  11  12  13  14  15  16  17\n",
            "  18  19  20  21  22  23  24  25  26  27  28  29  30  31  32  33  34  35\n",
            "  36  37  38  39  40  41  42  43  44  45  46  47  48  49  50  51  52  53\n",
            "  54  55  56  57  58  59  60  61  62  63  64  65  66  67  68  69  70  71\n",
            "  72  73  74  75  76  77  78  79  80  81  82  83  84  85  86  87  88  89\n",
            "  90  91  92  93  94  95  96  97  98  99 100 101 102 103 104 105 106 107\n",
            " 108 109 110 111 112 113 114 115 116 117 118 119 120 121 122 123 124 125\n",
            " 126 127 128 129 130 131 132 133 134 135 136 137 138 139 140 141 142 143\n",
            " 144 145 146 147 148 149 150 151 152 153 154 155 156 157 158 159 160 161\n",
            " 162 163 164 165 166 167 168 169 170 171 172 173 174 175 176 177 178 179\n",
            " 180 181 182 183 184 185 186 187 188 189 190 191 192 193 194 195 196 197\n",
            " 198 199 200 201 202 203 204 205 206 207 208 209 210 211 212 213 214 215\n",
            " 216 217 218 219 220 221 222 223 224 225 226 227 228 229 230 231 232 233\n",
            " 234 235 236 237 238 239 240 241 242 243 244 245 246 247 248 249 250 251\n",
            " 252 253 254 255 256 257 258 259 260 261 262 263 264 265 266 267 268 269\n",
            " 270 271 272 273 274 275 276 277 278 279 280 281 282 283 284 285 286 287\n",
            " 288 289 290 291 292 293 294 295 296 297 298 299 300 301 302 303 304 305\n",
            " 306 307 308 309 310 311 312 313 314 315 316 317 318 319 320 321 322 323\n",
            " 324 325 326 327 328 329 330 331 332 333 334 335 336 337 338 339 340 341\n",
            " 342 343 344 345 346 347 348 349 350 351 352 353 354 355 356 357 358 359\n",
            " 360 361 362 363 364 365 366 367 368 369 370 371 372 373 374 375 376 377\n",
            " 378 379 380 381 382 383 384 385 386 387 388 389 390 391 392 393 394 395\n",
            " 396 397 398 399 400 401 402 403 404 405 406 407 408 409 410 411 412 413\n",
            " 414 415 416 417 418 419 420 421 422 423 424 425 426 427 428 429 430 431\n",
            " 432 433 434 435 436 437 438 439 440 441 442 443 444 445 446 447 448 449\n",
            " 450 451 452 453 454 455 456 457 458 459 460 461 462 463 464 465 466 467\n",
            " 468 469 470 471 472 473 474 475 476 477 478 479 480 481 482 483 484 485\n",
            " 486 487 488 489 490 491 492 493 494 495 496 497 498 499 500 501 502 503\n",
            " 504 505 506 507 508 509 510 511 512 513 514 515 516 517 518 519 520 521\n",
            " 522 523 524 525 526 527 528 529 530 531 532 533 534 535 536 537 538 539\n",
            " 540 541 542 543 544 545 546 547 548 549 550 551 552 553 554 555 556 557\n",
            " 558 559 560 561 562 563 564 565 566 567 568 569 570 571 572 573 574 575\n",
            " 576 577 578 579 580 581 582 583 584 585 586 587 588 589 590 591 592 593\n",
            " 594 596 597 602 603 605 784 787 789 792 793 796 797 798 806 807 810 811\n",
            " 812 813 814 815 816 817 818 819 820 821 822 823 824 825 826 827 828 829\n",
            " 830 831 832 833 834 835 836 837 838 839 840 841 842 843 844 845 846 847\n",
            " 848 849 850 851 852 853 854 855 856 857 858 859 860 861 862 863 864 865\n",
            " 866 867 868 869 870 871 872 873 874 875 876 877 878 879 880 881 882 883\n",
            " 884 885 886 887 888 889 890 891 892 893 894 895 896 897 898 899 900 901\n",
            " 902 903 904 905 906 907 908 909 910 911 912 913 914 915 916 917 918 919\n",
            " 920 921 922 923 924 925 926 927 928 929 930 931 932 933 934 935 936 937\n",
            " 938 939 940 941 942 943 944 945 946 947 948 949 950 951 952 953 954 955\n",
            " 956 957 958 959 960 961 962 963 964 965 966 967 968 969 970 971 972 973\n",
            " 974 975 976 977 978 979 980 981 982 983 984 985 986 987 988 989 990 991\n",
            " 992 993 994 995 996 997 998 999] Validation: [595 598 599 600 601 604 606 607 608 609 610 611 612 613 614 615 616 617\n",
            " 618 619 620 621 622 623 624 625 626 627 628 629 630 631 632 633 634 635\n",
            " 636 637 638 639 640 641 642 643 644 645 646 647 648 649 650 651 652 653\n",
            " 654 655 656 657 658 659 660 661 662 663 664 665 666 667 668 669 670 671\n",
            " 672 673 674 675 676 677 678 679 680 681 682 683 684 685 686 687 688 689\n",
            " 690 691 692 693 694 695 696 697 698 699 700 701 702 703 704 705 706 707\n",
            " 708 709 710 711 712 713 714 715 716 717 718 719 720 721 722 723 724 725\n",
            " 726 727 728 729 730 731 732 733 734 735 736 737 738 739 740 741 742 743\n",
            " 744 745 746 747 748 749 750 751 752 753 754 755 756 757 758 759 760 761\n",
            " 762 763 764 765 766 767 768 769 770 771 772 773 774 775 776 777 778 779\n",
            " 780 781 782 783 785 786 788 790 791 794 795 799 800 801 802 803 804 805\n",
            " 808 809]\n",
            "Train: [  0   1   2   3   4   5   6   7   8   9  10  11  12  13  14  15  16  17\n",
            "  18  19  20  21  22  23  24  25  26  27  28  29  30  31  32  33  34  35\n",
            "  36  37  38  39  40  41  42  43  44  45  46  47  48  49  50  51  52  53\n",
            "  54  55  56  57  58  59  60  61  62  63  64  65  66  67  68  69  70  71\n",
            "  72  73  74  75  76  77  78  79  80  81  82  83  84  85  86  87  88  89\n",
            "  90  91  92  93  94  95  96  97  98  99 100 101 102 103 104 105 106 107\n",
            " 108 109 110 111 112 113 114 115 116 117 118 119 120 121 122 123 124 125\n",
            " 126 127 128 129 130 131 132 133 134 135 136 137 138 139 140 141 142 143\n",
            " 144 145 146 147 148 149 150 151 152 153 154 155 156 157 158 159 160 161\n",
            " 162 163 164 165 166 167 168 169 170 171 172 173 174 175 176 177 178 179\n",
            " 180 181 182 183 184 185 186 187 188 189 190 191 192 193 194 195 196 197\n",
            " 198 199 200 201 202 203 204 205 206 207 208 209 210 211 212 213 214 215\n",
            " 216 217 218 219 220 221 222 223 224 225 226 227 228 229 230 231 232 233\n",
            " 234 235 236 237 238 239 240 241 242 243 244 245 246 247 248 249 250 251\n",
            " 252 253 254 255 256 257 258 259 260 261 262 263 264 265 266 267 268 269\n",
            " 270 271 272 273 274 275 276 277 278 279 280 281 282 283 284 285 286 287\n",
            " 288 289 290 291 292 293 294 295 296 297 298 299 300 301 302 303 304 305\n",
            " 306 307 308 309 310 311 312 313 314 315 316 317 318 319 320 321 322 323\n",
            " 324 325 326 327 328 329 330 331 332 333 334 335 336 337 338 339 340 341\n",
            " 342 343 344 345 346 347 348 349 350 351 352 353 354 355 356 357 358 359\n",
            " 360 361 362 363 364 365 366 367 368 369 370 371 372 373 374 375 376 377\n",
            " 378 379 380 381 382 383 384 385 386 387 388 389 390 391 392 393 394 395\n",
            " 396 397 398 399 400 401 402 403 404 405 406 407 408 409 410 411 412 413\n",
            " 414 415 416 417 418 419 420 421 422 423 424 425 426 427 428 429 430 431\n",
            " 432 433 434 435 436 437 438 439 440 441 442 443 444 445 446 447 448 449\n",
            " 450 451 452 453 454 455 456 457 458 459 460 461 462 463 464 465 466 467\n",
            " 468 469 470 471 472 473 474 475 476 477 478 479 480 481 482 483 484 485\n",
            " 486 487 488 489 490 491 492 493 494 495 496 497 498 499 500 501 502 503\n",
            " 504 505 506 507 508 509 510 511 512 513 514 515 516 517 518 519 520 521\n",
            " 522 523 524 525 526 527 528 529 530 531 532 533 534 535 536 537 538 539\n",
            " 540 541 542 543 544 545 546 547 548 549 550 551 552 553 554 555 556 557\n",
            " 558 559 560 561 562 563 564 565 566 567 568 569 570 571 572 573 574 575\n",
            " 576 577 578 579 580 581 582 583 584 585 586 587 588 589 590 591 592 593\n",
            " 594 595 596 597 598 599 600 601 602 603 604 605 606 607 608 609 610 611\n",
            " 612 613 614 615 616 617 618 619 620 621 622 623 624 625 626 627 628 629\n",
            " 630 631 632 633 634 635 636 637 638 639 640 641 642 643 644 645 646 647\n",
            " 648 649 650 651 652 653 654 655 656 657 658 659 660 661 662 663 664 665\n",
            " 666 667 668 669 670 671 672 673 674 675 676 677 678 679 680 681 682 683\n",
            " 684 685 686 687 688 689 690 691 692 693 694 695 696 697 698 699 700 701\n",
            " 702 703 704 705 706 707 708 709 710 711 712 713 714 715 716 717 718 719\n",
            " 720 721 722 723 724 725 726 727 728 729 730 731 732 733 734 735 736 737\n",
            " 738 739 740 741 742 743 744 745 746 747 748 749 750 751 752 753 754 755\n",
            " 756 757 758 759 760 761 762 763 764 765 766 767 768 769 770 771 772 773\n",
            " 774 775 776 777 778 779 780 781 782 783 785 786 788 790 791 794 795 799\n",
            " 800 801 802 803 804 805 808 809] Validation: [784 787 789 792 793 796 797 798 806 807 810 811 812 813 814 815 816 817\n",
            " 818 819 820 821 822 823 824 825 826 827 828 829 830 831 832 833 834 835\n",
            " 836 837 838 839 840 841 842 843 844 845 846 847 848 849 850 851 852 853\n",
            " 854 855 856 857 858 859 860 861 862 863 864 865 866 867 868 869 870 871\n",
            " 872 873 874 875 876 877 878 879 880 881 882 883 884 885 886 887 888 889\n",
            " 890 891 892 893 894 895 896 897 898 899 900 901 902 903 904 905 906 907\n",
            " 908 909 910 911 912 913 914 915 916 917 918 919 920 921 922 923 924 925\n",
            " 926 927 928 929 930 931 932 933 934 935 936 937 938 939 940 941 942 943\n",
            " 944 945 946 947 948 949 950 951 952 953 954 955 956 957 958 959 960 961\n",
            " 962 963 964 965 966 967 968 969 970 971 972 973 974 975 976 977 978 979\n",
            " 980 981 982 983 984 985 986 987 988 989 990 991 992 993 994 995 996 997\n",
            " 998 999]\n"
          ]
        }
      ]
    },
    {
      "cell_type": "code",
      "metadata": {
        "colab": {
          "base_uri": "https://localhost:8080/"
        },
        "id": "1tlDZ-aH2ZbZ",
        "outputId": "a5d95d73-b05e-4ca7-8b2e-9086b54362dd"
      },
      "source": [
        "from sklearn.metrics import accuracy_score \n",
        "from sklearn.feature_selection import RFE\n",
        "from sklearn.model_selection import cross_val_score\n",
        "from xgboost import XGBClassifier\n",
        "x=XGBClassifier()\n",
        "rfe = RFE(x, 15)\n",
        "f=rfe.fit(x_train, y_train.values.ravel())\n",
        "\n",
        "\n",
        "#x.fit(x_train,y_train.values.ravel())\n",
        "xgb_predicted=f.predict(x_test)\n",
        "print('XGB',accuracy_score(y_test,xgb_predicted))"
      ],
      "execution_count": null,
      "outputs": [
        {
          "output_type": "stream",
          "name": "stdout",
          "text": [
            "XGB 0.875\n"
          ]
        }
      ]
    },
    {
      "cell_type": "code",
      "metadata": {
        "colab": {
          "base_uri": "https://localhost:8080/"
        },
        "id": "rIY4d1goK4S_",
        "outputId": "72c1b482-413c-4283-a6c4-780d230e21b1"
      },
      "source": [
        "\n",
        "print(\"Num Features: %s\" % (f.n_features_))\n",
        "print(\"Selected Features: %s\" % (f.support_))\n",
        "print(\"Feature Ranking: %s\" % (f.ranking_))"
      ],
      "execution_count": null,
      "outputs": [
        {
          "output_type": "stream",
          "name": "stdout",
          "text": [
            "Num Features: 15\n",
            "Selected Features: [False False False False  True False  True  True False False False False\n",
            "  True  True  True False False False  True False False False  True  True\n",
            " False False False False  True  True False False  True False  True False\n",
            "  True False False  True]\n",
            "Feature Ranking: [10 22 17 15  1 14  1  1 26 11  8 21  1  1  1 24 23  7  1 25  6  5  1  1\n",
            "  9 18 16 20  1  1 12 13  1  4  1 19  1  2  3  1]\n"
          ]
        }
      ]
    },
    {
      "cell_type": "code",
      "metadata": {
        "colab": {
          "base_uri": "https://localhost:8080/"
        },
        "id": "BXls8pBq59Sz",
        "outputId": "f4b904a4-e3b6-476b-a6bc-81097424e8a4"
      },
      "source": [
        "PCA\n",
        "from sklearn.decomposition import PCA\n",
        "pca=PCA(n_components=0.99)\n",
        "pca_train=pca.fit_transform(train)\n",
        "pca_train.shape\n"
      ],
      "execution_count": null,
      "outputs": [
        {
          "output_type": "execute_result",
          "data": {
            "text/plain": [
              "(1000, 36)"
            ]
          },
          "metadata": {},
          "execution_count": 116
        }
      ]
    },
    {
      "cell_type": "code",
      "metadata": {
        "colab": {
          "base_uri": "https://localhost:8080/"
        },
        "id": "hBZ9mfmn7S7l",
        "outputId": "c54fad77-9f22-4a0b-90f2-430c4be73603"
      },
      "source": [
        "x = XGBClassifier()\n",
        "print('XGB',cross_val_score(x,pca_train, train_labels.values.ravel(), cv=10).mean())"
      ],
      "execution_count": null,
      "outputs": [
        {
          "output_type": "stream",
          "name": "stdout",
          "text": [
            "XGB 0.8379999999999999\n"
          ]
        }
      ]
    },
    {
      "cell_type": "code",
      "metadata": {
        "id": "cy1aSxfdqP7z"
      },
      "source": [
        "#random\n",
        "from sklearn.ensemble import RandomForestClassifier\n",
        "from sklearn.model_selection import RepeatedStratifiedKFold\n",
        "from sklearn.model_selection import GridSearchCV\n",
        "from sklearn.feature_selection import RFE\n",
        "from sklearn.model_selection import RandomizedSearchCV\n",
        "r=RandomForestClassifier()\n",
        "\n",
        "n_estimators=[int(x) for x in np.linspace(start=200,stop=200,num=10)]\n",
        "max_features=['auto','sqrt']\n",
        "max_depth=[int(x) for x in np.linspace(10,110,num=11)]\n",
        "max_depth.append(None)\n",
        "min_samples_split=[2,5,10]\n",
        "min_samples_leaf=[1,2,4]\n",
        "bootstrap=[True,False]\n",
        "random_grid={'n_estimators': n_estimators,\n",
        "               'max_features': max_features,\n",
        "               'max_depth': max_depth,\n",
        "               'min_samples_split': min_samples_split,\n",
        "               'min_samples_leaf': min_samples_leaf,\n",
        "               'bootstrap': bootstrap}\n",
        "r_random=RandomizedSearchCV(estimator=r,param_distributions=random_grid,n_iter=100,cv=3,verbose=2,random_state=42,n_jobs=-1)\n",
        "\n",
        "\n",
        "\n",
        "\n",
        "\n",
        "\n",
        "\n",
        "#r = RandomForestClassifier(n_estimators = 100,random_state = 99)\n",
        "\n",
        "#rfe = RFE(r, 20)\n",
        "#f=rfe.fit(x_train, y_train.values.ravel())\n",
        "#r.fit(x_train,y_train.values.ravel())\n",
        "#predicted = f.predict(x_test)\n",
        "#print('RF',accuracy_score(y_test,predicted))\n",
        "\n"
      ],
      "execution_count": null,
      "outputs": []
    },
    {
      "cell_type": "code",
      "metadata": {
        "colab": {
          "base_uri": "https://localhost:8080/"
        },
        "id": "gAJ8nXaOd9Ef",
        "outputId": "21a3938f-8e03-4e83-e800-dffa4b340832"
      },
      "source": [
        "f=r_random.fit(x_train,y_train.values.ravel())"
      ],
      "execution_count": null,
      "outputs": [
        {
          "output_type": "stream",
          "name": "stdout",
          "text": [
            "Fitting 3 folds for each of 100 candidates, totalling 300 fits\n"
          ]
        },
        {
          "output_type": "stream",
          "name": "stderr",
          "text": [
            "[Parallel(n_jobs=-1)]: Using backend LokyBackend with 2 concurrent workers.\n",
            "[Parallel(n_jobs=-1)]: Done  37 tasks      | elapsed:   19.0s\n",
            "[Parallel(n_jobs=-1)]: Done 158 tasks      | elapsed:  1.3min\n",
            "[Parallel(n_jobs=-1)]: Done 300 out of 300 | elapsed:  2.4min finished\n"
          ]
        }
      ]
    },
    {
      "cell_type": "code",
      "metadata": {
        "colab": {
          "base_uri": "https://localhost:8080/"
        },
        "id": "Zm0VycldeF4Z",
        "outputId": "2b807199-d539-44bd-ca63-3686dda0a56f"
      },
      "source": [
        "r"
      ],
      "execution_count": null,
      "outputs": [
        {
          "output_type": "execute_result",
          "data": {
            "text/plain": [
              "RandomForestClassifier(bootstrap=True, ccp_alpha=0.0, class_weight=None,\n",
              "                       criterion='gini', max_depth=None, max_features='auto',\n",
              "                       max_leaf_nodes=None, max_samples=None,\n",
              "                       min_impurity_decrease=0.0, min_impurity_split=None,\n",
              "                       min_samples_leaf=1, min_samples_split=2,\n",
              "                       min_weight_fraction_leaf=0.0, n_estimators=100,\n",
              "                       n_jobs=None, oob_score=False, random_state=None,\n",
              "                       verbose=0, warm_start=False)"
            ]
          },
          "metadata": {},
          "execution_count": 93
        }
      ]
    },
    {
      "cell_type": "code",
      "metadata": {
        "colab": {
          "base_uri": "https://localhost:8080/"
        },
        "id": "kRNesA_Ae_qe",
        "outputId": "749a7de5-2d0a-4901-fb96-2167e108be66"
      },
      "source": [
        "f.best_params_"
      ],
      "execution_count": null,
      "outputs": [
        {
          "output_type": "execute_result",
          "data": {
            "text/plain": [
              "{'bootstrap': False,\n",
              " 'max_depth': 40,\n",
              " 'max_features': 'auto',\n",
              " 'min_samples_leaf': 1,\n",
              " 'min_samples_split': 2,\n",
              " 'n_estimators': 200}"
            ]
          },
          "metadata": {},
          "execution_count": 94
        }
      ]
    },
    {
      "cell_type": "code",
      "metadata": {
        "id": "CR_lPU3sfgXI"
      },
      "source": [
        "r=f.best_estimator_"
      ],
      "execution_count": null,
      "outputs": []
    },
    {
      "cell_type": "code",
      "metadata": {
        "colab": {
          "base_uri": "https://localhost:8080/"
        },
        "id": "x7v0jAN_gHHa",
        "outputId": "d3c259cc-6069-4ef5-ba2a-57c7bd8d19b5"
      },
      "source": [
        "r"
      ],
      "execution_count": null,
      "outputs": [
        {
          "output_type": "execute_result",
          "data": {
            "text/plain": [
              "RandomForestClassifier(bootstrap=False, ccp_alpha=0.0, class_weight=None,\n",
              "                       criterion='gini', max_depth=40, max_features='auto',\n",
              "                       max_leaf_nodes=None, max_samples=None,\n",
              "                       min_impurity_decrease=0.0, min_impurity_split=None,\n",
              "                       min_samples_leaf=1, min_samples_split=2,\n",
              "                       min_weight_fraction_leaf=0.0, n_estimators=200,\n",
              "                       n_jobs=None, oob_score=False, random_state=None,\n",
              "                       verbose=0, warm_start=False)"
            ]
          },
          "metadata": {},
          "execution_count": 96
        }
      ]
    },
    {
      "cell_type": "code",
      "metadata": {
        "colab": {
          "base_uri": "https://localhost:8080/"
        },
        "id": "hhwXek0feF66",
        "outputId": "349ebd80-1b19-4818-944b-6066c1189a7e"
      },
      "source": [
        "f"
      ],
      "execution_count": null,
      "outputs": [
        {
          "output_type": "execute_result",
          "data": {
            "text/plain": [
              "RandomizedSearchCV(cv=3, error_score=nan,\n",
              "                   estimator=RandomForestClassifier(bootstrap=True,\n",
              "                                                    ccp_alpha=0.0,\n",
              "                                                    class_weight=None,\n",
              "                                                    criterion='gini',\n",
              "                                                    max_depth=None,\n",
              "                                                    max_features='auto',\n",
              "                                                    max_leaf_nodes=None,\n",
              "                                                    max_samples=None,\n",
              "                                                    min_impurity_decrease=0.0,\n",
              "                                                    min_impurity_split=None,\n",
              "                                                    min_samples_leaf=1,\n",
              "                                                    min_samples_split=2,\n",
              "                                                    min_weight_fraction_leaf=0.0,\n",
              "                                                    n_estimators=100,\n",
              "                                                    n_jobs...\n",
              "                   iid='deprecated', n_iter=100, n_jobs=-1,\n",
              "                   param_distributions={'bootstrap': [True, False],\n",
              "                                        'max_depth': [10, 20, 30, 40, 50, 60,\n",
              "                                                      70, 80, 90, 100, 110,\n",
              "                                                      None],\n",
              "                                        'max_features': ['auto', 'sqrt'],\n",
              "                                        'min_samples_leaf': [1, 2, 4],\n",
              "                                        'min_samples_split': [2, 5, 10],\n",
              "                                        'n_estimators': [200, 200, 200, 200,\n",
              "                                                         200, 200, 200, 200,\n",
              "                                                         200, 200]},\n",
              "                   pre_dispatch='2*n_jobs', random_state=42, refit=True,\n",
              "                   return_train_score=False, scoring=None, verbose=2)"
            ]
          },
          "metadata": {},
          "execution_count": 97
        }
      ]
    },
    {
      "cell_type": "code",
      "metadata": {
        "colab": {
          "base_uri": "https://localhost:8080/"
        },
        "id": "hnRa3BFaeF-R",
        "outputId": "9af6358f-07be-4996-eb3f-e3726ffdb159"
      },
      "source": [
        "\n",
        "rfe=RFE(r,15)\n",
        "f_r=rfe.fit(x_train, y_train.values.ravel())\n",
        "predicted=f_r.predict(x_train)\n",
        "print('rf',accuracy_score(y_train,predicted))\n"
      ],
      "execution_count": null,
      "outputs": [
        {
          "output_type": "stream",
          "name": "stdout",
          "text": [
            "rf 1.0\n"
          ]
        }
      ]
    },
    {
      "cell_type": "code",
      "metadata": {
        "colab": {
          "base_uri": "https://localhost:8080/"
        },
        "id": "20hLVjh-grFO",
        "outputId": "9749a13d-3936-4f90-a119-cffff5b25709"
      },
      "source": [
        "predicted=f_r.predict(x_test)\n",
        "print('rf',accuracy_score(y_test,predicted))"
      ],
      "execution_count": null,
      "outputs": [
        {
          "output_type": "stream",
          "name": "stdout",
          "text": [
            "rf 0.87\n"
          ]
        }
      ]
    },
    {
      "cell_type": "code",
      "metadata": {
        "colab": {
          "base_uri": "https://localhost:8080/"
        },
        "id": "qgTHuMZkJVRv",
        "outputId": "5768deab-9445-49de-99f3-7d8968c1e3be"
      },
      "source": [
        "from sklearn.mixture import GaussianMixture\n",
        "from sklearn.model_selection import GridSearchCV, cross_val_score\n",
        "x_all=np.r_[train,test]\n",
        "print('x_all shape:', x_all.shape)"
      ],
      "execution_count": null,
      "outputs": [
        {
          "output_type": "stream",
          "name": "stdout",
          "text": [
            "x_all shape: (10000, 40)\n"
          ]
        }
      ]
    },
    {
      "cell_type": "code",
      "metadata": {
        "id": "KpgGJA97KxC_"
      },
      "source": [
        "lowest_bic = np.infty\n",
        "bic = []\n",
        "n_components_range = range(1, 7)\n",
        "cv_types = ['spherical', 'tied', 'diag', 'full']\n",
        "for cv_type in cv_types:\n",
        "    for n_components in n_components_range:\n",
        "        gmm = GaussianMixture(n_components=n_components,covariance_type=cv_type)\n",
        "        gmm.fit(x_all)\n",
        "        bic.append(gmm.aic(x_all))\n",
        "        if bic[-1] < lowest_bic:\n",
        "            lowest_bic = bic[-1]\n",
        "            best_gmm = gmm"
      ],
      "execution_count": null,
      "outputs": []
    },
    {
      "cell_type": "code",
      "metadata": {
        "id": "8t0T32duLswl"
      },
      "source": [
        "best_gmm.fit(x_all)\n",
        "gmm_train = best_gmm.predict_proba(train)\n",
        "gmm_test = best_gmm.predict_proba(test)"
      ],
      "execution_count": null,
      "outputs": []
    },
    {
      "cell_type": "code",
      "metadata": {
        "colab": {
          "base_uri": "https://localhost:8080/"
        },
        "id": "JvKEGQA1Lzq9",
        "outputId": "687f5417-1194-4155-d8a6-721d5d15476a"
      },
      "source": [
        "from sklearn.ensemble import RandomForestClassifier as RFC\n",
        "from sklearn.model_selection import cross_val_score\n",
        "from sklearn.model_selection import GridSearchCV\n",
        "rfc_b = RFC(random_state=99)\n",
        "param_grid = { \n",
        "    'n_estimators': [10,50,100,200, 500],\n",
        "\n",
        "    'max_depth' : [3,10,20,40],\n",
        "\n",
        "}\n",
        "CV_rfc = GridSearchCV(estimator=rfc_b, param_grid=param_grid, cv= 10,scoring='accuracy',n_jobs=-1)\n",
        "CV_rfc.fit(gmm_train, train_labels.values.ravel())\n",
        "rfc_best = CV_rfc.best_estimator_\n",
        "\n",
        "#rfc_b.fit(X_train,y_train)\n",
        "#y_pred = rfc_b.predict(X_test)\n",
        "#print('accuracy score:', accuracy_score(y_test,y_pred))\n",
        "CV_rfc.best_score_"
      ],
      "execution_count": null,
      "outputs": [
        {
          "output_type": "execute_result",
          "data": {
            "text/plain": [
              "0.9960000000000001"
            ]
          },
          "metadata": {},
          "execution_count": 133
        }
      ]
    }
  ]
}